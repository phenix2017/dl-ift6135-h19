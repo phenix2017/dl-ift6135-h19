{
 "cells": [
  {
   "cell_type": "markdown",
   "metadata": {
    "colab_type": "text",
    "id": "kDfuuSXSBCe5"
   },
   "source": [
    "# **Part 1 - Backprop**\n"
   ]
  },
  {
   "cell_type": "markdown",
   "metadata": {
    "colab_type": "text",
    "id": "mJUVKewGXvzm"
   },
   "source": [
    "Best hyperparams found for highest validation acc at the end of 10 epochs:\n",
    "\n",
    "With RELU nonlinearity:\n",
    "\n",
    "Learning rate :0.1\n",
    "\n",
    "hidden layer sizes 512, 1024\n",
    "\n",
    "batch_size: 200\n",
    "\n",
    "These parameters are also going to be the 'fixed setting' that we use in the questions regarding initialisation and there onwards.\n"
   ]
  },
  {
   "cell_type": "markdown",
   "metadata": {
    "colab_type": "text",
    "id": "HKsVXLW9ZFRd"
   },
   "source": [
    "Gradient Computation:\n",
    "We can derive the gradient wrt. softmax with cross entropy loss as:\n",
    "\n",
    "(predictions-y) \n",
    "\n",
    "where y is the one hot encoding of ground truth labels and predictions is the vector containing the softmax outputs.\n",
    "Gradients for weights and biases of layers are computed as per chain rule."
   ]
  },
  {
   "cell_type": "markdown",
   "metadata": {
    "colab_type": "text",
    "id": "mws-0vswZliw"
   },
   "source": [
    "At the end of 10 epochs a validation accuracy of 97.2% is reached with the above hyperparams and settings.\n",
    "\n"
   ]
  },
  {
   "cell_type": "code",
   "execution_count": 0,
   "metadata": {
    "colab": {},
    "colab_type": "code",
    "id": "v0VwF4hEaC6o"
   },
   "outputs": [],
   "source": [
    "import numpy as np\n",
    "import random\n",
    "from matplotlib import pyplot as plt\n",
    "import math\n",
    "\n",
    "class NN(object):\n",
    "    \n",
    "    def __init__(self,hidden_dims=(512,1024),n_hidden=2,mode='train', \\\n",
    "                 initmethod = 'glorot', epochs=10, lr=0.1, batch_size=200):\n",
    "        self.init_method = initmethod\n",
    "        \n",
    "        self.h0 = 784     \n",
    "        self.h1 = hidden_dims[0]\n",
    "        self.h2 = hidden_dims[1]\n",
    "        self.h3 = 10\n",
    "        \n",
    "        self.layer_sizes = [self.h0, self.h1, self.h2, self.h3]\n",
    "        self.network = [] # list of weights\n",
    "        self.num_hlayers = 2\n",
    "        self.num_classes = 10\n",
    "        \n",
    "        self.epochs = epochs\n",
    "        self.lr = lr\n",
    "        self.batch_size = batch_size\n",
    "        \n",
    "        self.dataprep()\n",
    "        if(mode=='train'):\n",
    "            self.initialize_weights()\n",
    "            loss, val_loss = self.train()\n",
    "            self.plot(loss, val_loss)\n",
    "\n",
    "        \n",
    "\n",
    "    def dataprep(self):\n",
    "\n",
    "        data = np.load('mnist.pkl.npy', encoding='latin1')\n",
    "      \n",
    "        train_set = data[0][0]\n",
    "        self.val_set = data[1][0]\n",
    "        self.test_set = data[2][0]\n",
    "        \n",
    "        \n",
    "        self.val_labels = data[1][1]\n",
    "        self.test_labels = data[2][1]\n",
    "\n",
    "        self.train_size = train_set.shape[0]\n",
    "        self.val_size = self.val_set.shape[0]\n",
    "        self.test_size = self.test_set.shape[0]\n",
    "\n",
    "        p = np.random.permutation(self.train_size)\n",
    "        self.train_set = train_set[p]\n",
    "        self.train_labels = data[0][1][p]\n",
    "\n",
    "        print(self.train_set.shape)\n",
    "        print(self.val_set.shape)\n",
    "        print(self.test_set.shape)\n",
    "    \n",
    "    def plot(self, loss, val_loss):\n",
    "        plt.plot(loss)\n",
    "        plt.plot(val_loss)\n",
    "        plt.title('model loss')\n",
    "        plt.ylabel('loss')\n",
    "        plt.xlabel('epoch')\n",
    "        plt.legend(['train', 'val'], loc='upper left')\n",
    "        plt.show()\n",
    "      \n",
    "    def train(self):    \n",
    "        m = self.train_size\n",
    "        val_samples = self.val_size\n",
    "\n",
    "        loss_history = np.zeros(self.epochs)\n",
    "        val_loss_history = np.zeros(self.epochs)\n",
    "        n_batches = int(m/self.batch_size)\n",
    "        batch_size = self.batch_size\n",
    "\n",
    "        \n",
    "        \n",
    "        print('zero shot validation')\n",
    "        val_batches = 0\n",
    "        val_loss= 0.0\n",
    "        val_accuracy = 0\n",
    "        for i in range(0,val_samples-batch_size+1,batch_size):\n",
    "            X_i_val = self.val_set[i:i+batch_size]\n",
    "            y_i_val = self.val_labels[i:i+batch_size]\n",
    "            outputs_val = self.forward(X_i_val)\n",
    "            \n",
    "            labels = np.argmax(outputs_val[-1], axis=1)\n",
    "            val_accuracy += (y_i_val == labels).sum()           \n",
    "            \n",
    "            one_hot = np.zeros((self.batch_size, self.num_classes))\n",
    "            one_hot[np.arange(self.batch_size), y_i_val] = 1\n",
    "            loss_val_batch = self.loss(outputs_val[-1], one_hot)\n",
    "            val_loss += loss_val_batch\n",
    "            val_batches +=1\n",
    "        val_accuracy = val_accuracy/(1.0*val_batches*self.batch_size)\n",
    "        val_loss = val_loss/(1.0*val_batches*self.batch_size)\n",
    "        print('val accuracy : '+str(val_accuracy) + \\\n",
    "              '       val loss : ' + str(val_loss))\n",
    "            \n",
    "            \n",
    "        \n",
    "        for it in range(self.epochs):\n",
    "            print('epoch : '+str(it))\n",
    "            loss = 0.0\n",
    "            val_loss= 0.0\n",
    "            train_accuracy = 0\n",
    "            indices = np.random.permutation(m)\n",
    "            train_set = self.train_set[indices]\n",
    "            train_labels = self.train_labels[indices]\n",
    "\n",
    "\n",
    "            train_batches = 0 \n",
    "            for i in range(0,m-batch_size+1,batch_size):\n",
    "                X_i = train_set[i:i+batch_size]\n",
    "                y_i = train_labels[i:i+batch_size]\n",
    "                outputs = self.forward(X_i)\n",
    "                loss_batch, accuracy_batch = self.backward(y_i)\n",
    "                loss += loss_batch\n",
    "                train_accuracy += accuracy_batch\n",
    "                train_batches +=1\n",
    "            loss = loss/(1.0*train_batches*self.batch_size)\n",
    "            train_accuracy = train_accuracy/(1.0*train_batches*self.batch_size)\n",
    "\n",
    "            print('train accuracy : ' + str(train_accuracy) + \\\n",
    "                  '     train loss : '+ str(loss))\n",
    "\n",
    "            val_batches = 0\n",
    "            val_accuracy = 0\n",
    "            for i in range(0,val_samples-batch_size+1,batch_size):\n",
    "           \n",
    "        \n",
    "                X_i_val = self.val_set[i:i+batch_size]\n",
    "                y_i_val = self.val_labels[i:i+batch_size]\n",
    "                outputs_val = self.forward(X_i_val)\n",
    "                labels = np.argmax(outputs_val[-1], axis=1)\n",
    "                val_accuracy += (y_i_val == labels).sum()  \n",
    "            \n",
    "                one_hot = np.zeros((self.batch_size, self.num_classes))\n",
    "                one_hot[np.arange(self.batch_size), y_i_val] = 1\n",
    "                                \n",
    "                loss_val_batch = self.loss(outputs_val[-1], one_hot)\n",
    "                val_loss += loss_val_batch\n",
    "                val_batches +=1\n",
    "            val_loss = val_loss/(1.0*val_batches*self.batch_size)\n",
    "            val_accuracy = val_accuracy/(1.0*val_batches*self.batch_size)\n",
    "            print('val accuracy : '+str(val_accuracy) + \\\n",
    "                  '      val loss : ' + str(val_loss))\n",
    "\n",
    "\n",
    "            val_loss_history[it]  = val_loss\n",
    "            loss_history[it]  = loss\n",
    "\n",
    "        return loss_history, val_loss_history\n",
    "\n",
    "    def initialize_weights(self):\n",
    "        if(self.init_method=='zeros'):\n",
    "            for i in range(len(self.layer_sizes)-1):\n",
    "                layer_weights = np.zeros((self.layer_sizes[i]+1,\\\n",
    "                                          self.layer_sizes[i+1]))\n",
    "                layer_weights[-1,:] = 0\n",
    "                print(layer_weights.shape)\n",
    "                self.network.append(layer_weights) \n",
    "        elif(self.init_method=='glorot'):\n",
    "\n",
    "            for i in range(len(self.layer_sizes)-1):\n",
    "                d = math.sqrt(6.0/(self.layer_sizes[i]+self.layer_sizes[i+1]))      \n",
    "                layer_weights = np.random.uniform(-d,d,\\\n",
    "                                    (self.layer_sizes[i]+1,self.layer_sizes[i+1]))\n",
    "                layer_weights[-1,:] = 0\n",
    "                print(layer_weights.shape)\n",
    "                self.network.append(layer_weights)    \n",
    "                \n",
    "        else:\n",
    "            for i in range(len(self.layer_sizes)-1):\n",
    "                layer_weights = np.random.randn(self.layer_sizes[i]+1,\\\n",
    "                                                self.layer_sizes[i+1])\n",
    "                layer_weights[-1,:] = 0  \n",
    "                print(layer_weights.shape)\n",
    "                self.network.append(layer_weights) \n",
    "\n",
    "  \n",
    "    def activation(self,inputs, layer_no):\n",
    "        inputs = np.hstack((inputs, np.ones((inputs.shape[0],1)) ))\n",
    "        activation = np.dot(inputs, self.network[layer_no])     \n",
    "        return activation\n",
    "    \n",
    "    def softmax(self,inputs): \n",
    "        # Result of softmax are invariant even if we add/subtract a constant.  \n",
    "        ex = np.exp(inputs - np.max(inputs, axis=1,  keepdims=True))  \n",
    "        # Subtract such that the maximum value is one.\n",
    "\n",
    "        return ex/np.sum(ex, axis=1,  keepdims=True)\n",
    "      \n",
    "    def stable_softmax(self,inputs): \n",
    "        # Result of softmax are invariant even if we add/subtract a constant.  \n",
    "        max_inputs = np.max(inputs, axis=1,  keepdims=True)\n",
    "        ex = np.exp(inputs - max_inputs)                          \n",
    "        # Subtract such that the maximum value is one.\n",
    "        logsumexp = np.log(np.sum(ex, axis=1, keepdims=True)) + max_inputs\n",
    "        return np.exp(inputs - logsumexp),inputs - logsumexp                 \n",
    "\n",
    "    def forward(self,inputs):\n",
    "\n",
    "        #we are always appending inputs before doing relu to the cache\n",
    "        self.layer_outputs = []\n",
    "        self.layer_outputs.append(inputs)\n",
    "\n",
    "        for layer_no in range(len(self.network)-1):        \n",
    "            inputs = self.activation(inputs, layer_no)\n",
    "\n",
    "            self.layer_outputs.append(inputs)\n",
    "            np.maximum(inputs,0,inputs)              #relu     \n",
    "       \n",
    "        inputs = self.activation(inputs, len(self.network)-1 )\n",
    "\n",
    "        inputs, stable_inputs = self.stable_softmax(inputs)\n",
    "        self.layer_outputs.append(inputs)\n",
    "        return self.layer_outputs \n",
    "      \n",
    "    def relu(self, inputs):\n",
    "        outputs = np.maximum(inputs,0)\n",
    "        return outputs\n",
    "      \n",
    "    def backward(self, labels, getGrads=False):\n",
    "\n",
    "        self.grad_L_wrt_Ws = []\n",
    "\n",
    "        softmax_output = self.layer_outputs[-1]\n",
    "\n",
    "        one_hot = np.zeros((self.batch_size, self.num_classes))\n",
    "\n",
    "        one_hot[np.arange(self.batch_size), labels] = 1\n",
    "\n",
    "        # Loss, accuracy\n",
    "\n",
    "        loss_batch = self.loss(softmax_output, one_hot)\n",
    "\n",
    "        pred_labels = np.argmax(softmax_output, axis=1)\n",
    "\n",
    "        accuracy_batch = (labels == pred_labels).sum()\n",
    "\n",
    "        # Derivative of loss wrt softmax_input\n",
    "\n",
    "        # = softmax_out[d] when target[d] = 0, = softmax_out[d] - 1 when target[d] = 1\n",
    "\n",
    "        grad_L_wrt_softmax_input = softmax_output - one_hot\n",
    "\n",
    "        # softmax_in = layer3_output = W_h2_h3*layer3_input \n",
    "        #= W_h2_h3*relu(layer2_output)\n",
    "\n",
    "        # grad_L_wrt_W_h2_h3 \n",
    "        #= (grad_L_wrt_layer3_output)*(grad_layer3_output_wrt_W_h2_h3)\n",
    "\n",
    "        # 2nd term grad_layer3_output_wrt_W_h2_h3 = layer3_input = max(layer2_output, 0)\n",
    "\n",
    "        grad_L_wrt_layer_out = grad_L_wrt_softmax_input\n",
    "\n",
    "        for layer_neg_idx in range(-1, -len(self.network)-1, -1):\n",
    "\n",
    "            # print(\"backward\", layer_neg_idx)\n",
    "\n",
    "            prev_layer_output = self.layer_outputs[layer_neg_idx-1]\n",
    "\n",
    "            layer_input = self.relu(np.hstack(( prev_layer_output,\\\n",
    "                                               np.ones((self.batch_size, 1)) )) )\n",
    "\n",
    "            grad_L_wrt_W = np.matmul(layer_input.T, grad_L_wrt_layer_out)\n",
    "\n",
    "            self.grad_L_wrt_Ws.append(grad_L_wrt_W/self.batch_size)\n",
    "\n",
    "            # For prev layer\n",
    "\n",
    "            # grad_L_wrt_layer2_output\n",
    "            \n",
    "            #   = (grad_L_wrt_layer3_output)*(grad_layer3_output_wrt_layer2_output)\n",
    "\n",
    "            #   = (grad_L_wrt_layer3_output)*(grad_(W*relu(layer2_output))_wrt_layer2_output)\n",
    "\n",
    "            #   = (grad_L_wrt_layer3_output)*W*(grad_(relu(layer2_output))_wrt_layer2_output)\n",
    "\n",
    "            #   = (grad_L_wrt_layer3_output)*W*(layer2_output > 0)\n",
    "\n",
    "            grad_L_wrt_prev_layer_out = np.matmul(grad_L_wrt_layer_out,\\\n",
    "                self.network[layer_neg_idx][:-1, :].T) * (prev_layer_output > 0).astype('float')\n",
    "\n",
    "            grad_L_wrt_layer_out = grad_L_wrt_prev_layer_out\n",
    "\n",
    "        if(not getGrads):\n",
    "            self.update(self.grad_L_wrt_Ws)\n",
    "            return loss_batch, accuracy_batch\n",
    "        else:\n",
    "            return loss_batch, accuracy_batch, self.grad_L_wrt_Ws\n",
    "\n",
    "          \n",
    "    def reluDerivative(x): \n",
    "        x[x<=0] = 0\n",
    "        x[x>0] = 1\n",
    "        return x\n",
    "        \n",
    "        \n",
    "    def loss(self,predictions,targets): #cross entropy\n",
    "\n",
    "        epsilon = 1e-12\n",
    "        predictions = np.clip(predictions, epsilon, 1. - epsilon)\n",
    "        ce = -np.sum(np.multiply(targets,np.log(predictions+1e-9)), axis=1)\n",
    "\n",
    "        ce = np.sum(ce)\n",
    "        return ce\n",
    "    \n",
    "    def update(self,grads):\n",
    "        length_net = len(self.network)\n",
    "        assert(len(grads)==length_net)\n",
    "\n",
    "        i=0\n",
    "        for layer_no in range(length_net):\n",
    "            self.network[layer_no] -= self.lr * grads[length_net-1-i]             \n",
    "            i += 1\n",
    "            \n",
    "    def test(self):\n",
    "        m = self.test_size\n",
    "        batch_size = self.batch_size\n",
    "\n",
    "        for it in range(self.epochs):\n",
    "            loss =0.0\n",
    "            test_batches = 0\n",
    "            test_accuracy = 0\n",
    "            for i in range(0,m-batch_size,batch_size):\n",
    "                X_i = self.test_set[i:i+batch_size]\n",
    "                y_i = self.test_labels[i:i+batch_size]\n",
    "                outputs = self.forward(X_i)  \n",
    "                one_hot = np.zeros((self.batch_size, self.num_classes))\n",
    "                one_hot[np.arange(self.batch_size), y_i] = 1                \n",
    "                loss += self.loss(outputs[-1], one_hot)\n",
    "                test_batches +=1\n",
    "                labels = np.argmax(outputs[-1], axis=1)\n",
    "                test_accuracy += (y_i == labels).sum() \n",
    "        test_loss = loss/(1.0*test_batches*self.batch_size)\n",
    "        test_accuracy = test_accuracy/(1.0*test_batches*self.batch_size)\n",
    "        print('test loss : ' + str(test_loss) + \\\n",
    "              '          test accuracy : '+ str(test_accuracy))            \n",
    "      \n",
    "    def grad_check(self):\n",
    "        self.batch_size=1\n",
    "        l=6\n",
    "        X_i_val = self.val_set[l:l+self.batch_size]\n",
    "        y_i_val = self.val_labels[l:l+self.batch_size]\n",
    "        outputs_val = self.forward(X_i_val)\n",
    "        loss_batch, accuracy_batch, gradients = self.backward(y_i_val, getGrads= True)\n",
    "\n",
    "        diffs=[]\n",
    "        for n in range(1,6):\n",
    "            for m in [1,5]:\n",
    "                numerical, computed = self.finite_diff(gradients, n, X_i_val, y_i_val, m)\n",
    "                diffs.append(max(numerical-computed))\n",
    "        plt.plot(diffs)\n",
    "        plt.show()\n",
    "            \n",
    "    def finite_diff(self, gradients, n, inputs, labels, m):\n",
    "        targets = np.zeros((self.batch_size, self.num_classes))\n",
    "        targets[np.arange(self.batch_size), labels] = 1\n",
    "        epsilon = 1/(m*1.0*(10**n))\n",
    "        print('epsilon:'+str(epsilon))\n",
    "        length_net = len(self.network)\n",
    "        layer_no = 1\n",
    "        layer_grad = []\n",
    "        i=0\n",
    "        for j in range(10):\n",
    "          \n",
    "            self.network[layer_no][i,j] = self.network[layer_no][i,j] + epsilon\n",
    "            output_p =self.loss(self.forward(inputs)[-1], targets)\n",
    "            self.network[layer_no][i,j] = self.network[layer_no][i,j] - 2*epsilon\n",
    "\n",
    "            output_n = self.loss(self.forward(inputs)[-1], targets)\n",
    "\n",
    "            self.network[layer_no][i,j] = self.network[layer_no][i,j] + epsilon\n",
    "            grad = (output_p - output_n)/(2*epsilon)\n",
    "   \n",
    "            layer_grad.append(grad)\n",
    "            \n",
    "        compare_grad = gradients[length_net-2][0][:10]\n",
    "        return np.array(layer_grad), compare_grad\n",
    "\n",
    "   "
   ]
  },
  {
   "cell_type": "markdown",
   "metadata": {
    "colab_type": "text",
    "id": "4lE90pt6zH0q"
   },
   "source": [
    "# Run neural net training and testing to see final loss curves after 10 epochs"
   ]
  },
  {
   "cell_type": "code",
   "execution_count": 36,
   "metadata": {
    "colab": {
     "base_uri": "https://localhost:8080/",
     "height": 1036
    },
    "colab_type": "code",
    "id": "Ns-KK4h1zHHw",
    "outputId": "b9ddab3a-1366-402a-b099-42e72319160e"
   },
   "outputs": [
    {
     "name": "stdout",
     "output_type": "stream",
     "text": [
      "(50000, 784)\n",
      "(10000, 784)\n",
      "(10000, 784)\n",
      "(785, 700)\n",
      "(701, 512)\n",
      "(513, 10)\n",
      "zero shot validation\n",
      "val accuracy : 0.1224       val loss : 2.3177577554446294\n",
      "epoch : 0\n",
      "train accuracy : 0.8981     train loss : 0.36324488319177406\n",
      "val accuracy : 0.937      val loss : 0.20939831820010887\n",
      "epoch : 1\n",
      "train accuracy : 0.95078     train loss : 0.1655519366089717\n",
      "val accuracy : 0.9632      val loss : 0.13019896749798598\n",
      "epoch : 2\n",
      "train accuracy : 0.96608     train loss : 0.11469119600135884\n",
      "val accuracy : 0.9713      val loss : 0.10111679563388112\n",
      "epoch : 3\n",
      "train accuracy : 0.97472     train loss : 0.08732825579168026\n",
      "val accuracy : 0.9715      val loss : 0.09925817380184349\n",
      "epoch : 4\n",
      "train accuracy : 0.98058     train loss : 0.06812781888104029\n",
      "val accuracy : 0.9759      val loss : 0.08379519445283257\n",
      "epoch : 5\n",
      "train accuracy : 0.98454     train loss : 0.05446491581376415\n",
      "val accuracy : 0.9769      val loss : 0.08114256388627394\n",
      "epoch : 6\n",
      "train accuracy : 0.98746     train loss : 0.04421509691597075\n",
      "val accuracy : 0.9773      val loss : 0.07876527500216929\n",
      "epoch : 7\n",
      "train accuracy : 0.99048     train loss : 0.03589308828233672\n",
      "val accuracy : 0.974      val loss : 0.08634378018873633\n",
      "epoch : 8\n",
      "train accuracy : 0.99258     train loss : 0.02923917024514684\n",
      "val accuracy : 0.9782      val loss : 0.07158835564931809\n",
      "epoch : 9\n",
      "train accuracy : 0.99464     train loss : 0.023607063784397437\n",
      "val accuracy : 0.9797      val loss : 0.06972158314697587\n"
     ]
    },
    {
     "data": {
      "image/png": "[encoded data removed]",
      "text/plain": [
       "<Figure size 576x396 with 1 Axes>"
      ]
     },
     "metadata": {
      "tags": []
     },
     "output_type": "display_data"
    }
   ],
   "source": [
    "nn = NN()"
   ]
  },
  {
   "cell_type": "code",
   "execution_count": 21,
   "metadata": {
    "colab": {
     "base_uri": "https://localhost:8080/",
     "height": 52
    },
    "colab_type": "code",
    "id": "gAqcYcpC3jPN",
    "outputId": "80369cd5-096a-4430-d9de-fa4c56fe40ae"
   },
   "outputs": [
    {
     "name": "stdout",
     "output_type": "stream",
     "text": [
      "test loss : 0.2125267076205614          test accuracy : 0.9391939193919392\n"
     ]
    },
    {
     "data": {
      "text/plain": [
       "2125.0545494979933"
      ]
     },
     "execution_count": 21,
     "metadata": {
      "tags": []
     },
     "output_type": "execute_result"
    }
   ],
   "source": [
    "nn.test()"
   ]
  },
  {
   "cell_type": "markdown",
   "metadata": {
    "colab_type": "text",
    "id": "y_iyKsjh4rSw"
   },
   "source": [
    "# Trying different weight initialisations"
   ]
  },
  {
   "cell_type": "code",
   "execution_count": 54,
   "metadata": {
    "colab": {
     "base_uri": "https://localhost:8080/",
     "height": 1053
    },
    "colab_type": "code",
    "id": "ZlHxK0FbNUJt",
    "outputId": "ac445c01-63fa-4e2f-9dbe-85ed35124924"
   },
   "outputs": [
    {
     "name": "stdout",
     "output_type": "stream",
     "text": [
      "////////////////glorot initialisation///////////////////////\n",
      "(50000, 784)\n",
      "(10000, 784)\n",
      "(10000, 784)\n",
      "(785, 512)\n",
      "(513, 1024)\n",
      "(1025, 10)\n",
      "zero shot validation\n",
      "val accuracy : 0.0819       val loss : 2.326009628031885\n",
      "epoch : 0\n",
      "train accuracy : 0.85578     train loss : 0.542020822468647\n",
      "val accuracy : 0.9221      val loss : 0.26892395860852314\n",
      "epoch : 1\n",
      "train accuracy : 0.92466     train loss : 0.25971223105351704\n",
      "val accuracy : 0.9389      val loss : 0.20602739685663674\n",
      "epoch : 2\n",
      "train accuracy : 0.94146     train loss : 0.20090755575504918\n",
      "val accuracy : 0.9544      val loss : 0.17003026526937148\n",
      "epoch : 3\n",
      "train accuracy : 0.95158     train loss : 0.16600109674121463\n",
      "val accuracy : 0.961      val loss : 0.14593449397780878\n",
      "epoch : 4\n",
      "train accuracy : 0.9596     train loss : 0.14008405793603723\n",
      "val accuracy : 0.9649      val loss : 0.13401200857194148\n",
      "epoch : 5\n",
      "train accuracy : 0.96526     train loss : 0.12041383640381353\n",
      "val accuracy : 0.9648      val loss : 0.12810445818959257\n",
      "epoch : 6\n",
      "train accuracy : 0.96884     train loss : 0.10584475650621325\n",
      "val accuracy : 0.9705      val loss : 0.10911683195119119\n",
      "epoch : 7\n",
      "train accuracy : 0.97298     train loss : 0.09327815136212163\n",
      "val accuracy : 0.9693      val loss : 0.10634678225255739\n",
      "epoch : 8\n",
      "train accuracy : 0.9765     train loss : 0.08299334071201722\n",
      "val accuracy : 0.9733      val loss : 0.09913614277439181\n",
      "epoch : 9\n",
      "train accuracy : 0.9788     train loss : 0.07401202045509546\n",
      "val accuracy : 0.9743      val loss : 0.096795421743254\n"
     ]
    },
    {
     "data": {
      "image/png": "[encoded data removed]",
      "text/plain": [
       "<Figure size 576x396 with 1 Axes>"
      ]
     },
     "metadata": {
      "tags": []
     },
     "output_type": "display_data"
    }
   ],
   "source": [
    "print('////////////////glorot initialisation///////////////////////')\n",
    "nn_glorot = NN(initmethod= 'glorot')\n",
    "\n"
   ]
  },
  {
   "cell_type": "code",
   "execution_count": 51,
   "metadata": {
    "colab": {
     "base_uri": "https://localhost:8080/",
     "height": 1053
    },
    "colab_type": "code",
    "id": "L12l-0uDRQbH",
    "outputId": "b83f970b-6651-4891-9364-958e78c367b4"
   },
   "outputs": [
    {
     "name": "stdout",
     "output_type": "stream",
     "text": [
      "////////////////zeros initialisation///////////////////////\n",
      "(50000, 784)\n",
      "(10000, 784)\n",
      "(10000, 784)\n",
      "(785, 512)\n",
      "(513, 1024)\n",
      "(1025, 10)\n",
      "zero shot validation\n",
      "val accuracy : 0.0991       val loss : 2.302585082994046\n",
      "epoch : 0\n",
      "train accuracy : 0.11294     train loss : 2.3022687921666756\n",
      "val accuracy : 0.1064      val loss : 2.3021843951713272\n",
      "epoch : 1\n",
      "train accuracy : 0.11356     train loss : 2.301777791376592\n",
      "val accuracy : 0.1064      val loss : 2.301982066276648\n",
      "epoch : 2\n",
      "train accuracy : 0.11356     train loss : 2.3014790425272116\n",
      "val accuracy : 0.1064      val loss : 2.301889863904215\n",
      "epoch : 3\n",
      "train accuracy : 0.11356     train loss : 2.301301302981305\n",
      "val accuracy : 0.1064      val loss : 2.301854067208434\n",
      "epoch : 4\n",
      "train accuracy : 0.11356     train loss : 2.301192814163037\n",
      "val accuracy : 0.1064      val loss : 2.3018503042713427\n",
      "epoch : 5\n",
      "train accuracy : 0.11356     train loss : 2.301129920081543\n",
      "val accuracy : 0.1064      val loss : 2.301863708527277\n",
      "epoch : 6\n",
      "train accuracy : 0.11356     train loss : 2.301091209854322\n",
      "val accuracy : 0.1064      val loss : 2.301880147978984\n",
      "epoch : 7\n",
      "train accuracy : 0.11356     train loss : 2.3010683244790053\n",
      "val accuracy : 0.1064      val loss : 2.3019026845408885\n",
      "epoch : 8\n",
      "train accuracy : 0.11356     train loss : 2.30105310022168\n",
      "val accuracy : 0.1064      val loss : 2.3019147127129322\n",
      "epoch : 9\n",
      "train accuracy : 0.11356     train loss : 2.3010434620082005\n",
      "val accuracy : 0.1064      val loss : 2.301932918705967\n"
     ]
    },
    {
     "data": {
      "image/png": "[encoded data removed]",
      "text/plain": [
       "<Figure size 576x396 with 1 Axes>"
      ]
     },
     "metadata": {
      "tags": []
     },
     "output_type": "display_data"
    }
   ],
   "source": [
    "print('////////////////zeros initialisation///////////////////////')\n",
    "nn_zero = NN(initmethod= 'zeros')"
   ]
  },
  {
   "cell_type": "markdown",
   "metadata": {
    "colab_type": "text",
    "id": "85_EdfjmTcPN"
   },
   "source": []
  },
  {
   "cell_type": "code",
   "execution_count": 50,
   "metadata": {
    "colab": {
     "base_uri": "https://localhost:8080/",
     "height": 1053
    },
    "colab_type": "code",
    "id": "XDOZC8ruRK1G",
    "outputId": "125e576b-18dc-4921-c102-a27752099f63"
   },
   "outputs": [
    {
     "name": "stdout",
     "output_type": "stream",
     "text": [
      "////////////////gaussian initialisation///////////////////////\n",
      "(50000, 784)\n",
      "(10000, 784)\n",
      "(10000, 784)\n",
      "(785, 512)\n",
      "(513, 1024)\n",
      "(1025, 10)\n",
      "zero shot validation\n",
      "val accuracy : 0.1011       val loss : 18.627245209883068\n",
      "epoch : 0\n",
      "train accuracy : 0.8445     train loss : 3.1878481668288594\n",
      "val accuracy : 0.9118      val loss : 1.8031152140938593\n",
      "epoch : 1\n",
      "train accuracy : 0.92512     train loss : 1.5222325269595003\n",
      "val accuracy : 0.9259      val loss : 1.5073912996726935\n",
      "epoch : 2\n",
      "train accuracy : 0.94582     train loss : 1.0982559328256152\n",
      "val accuracy : 0.9313      val loss : 1.397139344269522\n",
      "epoch : 3\n",
      "train accuracy : 0.9584     train loss : 0.835523906152143\n",
      "val accuracy : 0.9326      val loss : 1.3650735630875819\n",
      "epoch : 4\n",
      "train accuracy : 0.96786     train loss : 0.6400965133504405\n",
      "val accuracy : 0.9364      val loss : 1.2903830512495573\n",
      "epoch : 5\n",
      "train accuracy : 0.97472     train loss : 0.4964545655733264\n",
      "val accuracy : 0.9374      val loss : 1.2834142365579424\n",
      "epoch : 6\n",
      "train accuracy : 0.98084     train loss : 0.37043973053987783\n",
      "val accuracy : 0.9375      val loss : 1.274997894874585\n",
      "epoch : 7\n",
      "train accuracy : 0.98466     train loss : 0.29603632040179917\n",
      "val accuracy : 0.9373      val loss : 1.2827460223924556\n",
      "epoch : 8\n",
      "train accuracy : 0.98798     train loss : 0.22451173613954029\n",
      "val accuracy : 0.9389      val loss : 1.2320277774041173\n",
      "epoch : 9\n",
      "train accuracy : 0.99118     train loss : 0.1634423766663869\n",
      "val accuracy : 0.9392      val loss : 1.2270870257843405\n"
     ]
    },
    {
     "data": {
      "image/png": "[encoded data removed]",
      "text/plain": [
       "<Figure size 576x396 with 1 Axes>"
      ]
     },
     "metadata": {
      "tags": []
     },
     "output_type": "display_data"
    }
   ],
   "source": [
    "print('////////////////gaussian initialisation///////////////////////')\n",
    "nn_gaussian = NN(initmethod= '', lr=0.01)"
   ]
  },
  {
   "cell_type": "markdown",
   "metadata": {
    "colab_type": "text",
    "id": "psANjiA9Ublb"
   },
   "source": [
    "Conclusion:\n",
    "we see that with zeros as the weight init, as expected, no learning happens since backprop can't compute any useful gradients to propagate since the gradient for a weight that is zero will be zero.\n",
    "We see better performance, and more importantly faster convergence for the glorot initialisation.\n",
    "The gaussian weights give good performance too, but reach a lower final accuracy and take longer to converge to this accuracy. They also don't generalise as well as the case of the glorot init."
   ]
  },
  {
   "cell_type": "markdown",
   "metadata": {
    "colab_type": "text",
    "id": "sFJ8gkkC4rjn"
   },
   "source": [
    "\n",
    "\n",
    "# Best hyperparam search\n",
    "\n",
    "-varied batch size, learning rate, hidden layer sizes and number of epochs\n",
    "\n",
    "\n",
    "batch size : a,b,c -> 10, 80, 200\n",
    "\n",
    "epochs : d,e -> 10, 50\n",
    "\n",
    "Learning rate: g,h,i -> 0.1,  0.01,  0.001\n",
    "\n",
    "Hidden layer config: j,k -> (512,1024), (700,512) \n",
    "\n",
    "The following indicates the setup along with the validation accuracy.\n",
    "\n",
    "- adgk  -> 98.12\n",
    "\n",
    "- bdgk  -> 97.97\n",
    "\n",
    "- bdgj  -> 98.19%\n",
    "\n",
    "- cdgj  -> 97.2%\n",
    "\n",
    "- cdhj  -> 92%\n",
    "\n",
    "- cdik  -> 84%\n",
    "\n",
    "- cegj  -> 98.12%\n"
   ]
  },
  {
   "cell_type": "markdown",
   "metadata": {
    "colab_type": "text",
    "id": "2Jb3myXpyuLi"
   },
   "source": [
    "## Run finite diff code and plot how the max difference betwen backprop-computed gradients and numerical gradients changes as we increase the value of N/decrease epsilon."
   ]
  },
  {
   "cell_type": "code",
   "execution_count": 55,
   "metadata": {
    "colab": {
     "base_uri": "https://localhost:8080/",
     "height": 1123
    },
    "colab_type": "code",
    "id": "_nVkRu6OwHas",
    "outputId": "c1f6facb-2520-4650-c16d-33d97e40273b"
   },
   "outputs": [
    {
     "name": "stdout",
     "output_type": "stream",
     "text": [
      "(50000, 784)\n",
      "(10000, 784)\n",
      "(10000, 784)\n",
      "(785, 512)\n",
      "(513, 1024)\n",
      "(1025, 10)\n",
      "zero shot validation\n",
      "val accuracy : 0.1025       val loss : 2.341138418133865\n",
      "epoch : 0\n",
      "train accuracy : 0.8592     train loss : 0.535765870846202\n",
      "val accuracy : 0.9224      val loss : 0.27096104212662897\n",
      "epoch : 1\n",
      "train accuracy : 0.92738     train loss : 0.2530637168297488\n",
      "val accuracy : 0.9443      val loss : 0.20704507578480175\n"
     ]
    },
    {
     "data": {
      "image/png": "[encoded data removed]",
      "text/plain": [
       "<Figure size 576x396 with 1 Axes>"
      ]
     },
     "metadata": {
      "tags": []
     },
     "output_type": "display_data"
    },
    {
     "name": "stdout",
     "output_type": "stream",
     "text": [
      "epsilon:0.1\n",
      "epsilon:0.02\n",
      "epsilon:0.01\n",
      "epsilon:0.002\n",
      "epsilon:0.001\n",
      "epsilon:0.0002\n",
      "epsilon:0.0001\n",
      "epsilon:2e-05\n",
      "epsilon:1e-05\n",
      "epsilon:2e-06\n"
     ]
    },
    {
     "data": {
      "image/png": "[encoded data removed]",
      "text/plain": [
       "<Figure size 576x396 with 1 Axes>"
      ]
     },
     "metadata": {
      "tags": []
     },
     "output_type": "display_data"
    }
   ],
   "source": [
    "nn = NN(epochs=2)\n",
    "nn.grad_check()"
   ]
  },
  {
   "cell_type": "markdown",
   "metadata": {},
   "source": [
    "The plot above shows that the difference tends to 0 as we increase N/decrease epsilon,this is to be expected because the numerical gradient should approach the true gradient(from backprop) as epsilon becomes smaller."
   ]
  }
 ],
 "metadata": {
  "colab": {
   "collapsed_sections": [],
   "name": "Untitled5.ipynb",
   "provenance": [],
   "version": "0.3.2"
  },
  "kernelspec": {
   "display_name": "Python 3",
   "language": "python",
   "name": "python3"
  },
  "language_info": {
   "codemirror_mode": {
    "name": "ipython",
    "version": 3
   },
   "file_extension": ".py",
   "mimetype": "text/x-python",
   "name": "python",
   "nbconvert_exporter": "python",
   "pygments_lexer": "ipython3",
   "version": "3.6.5"
  }
 },
 "nbformat": 4,
 "nbformat_minor": 1
}
