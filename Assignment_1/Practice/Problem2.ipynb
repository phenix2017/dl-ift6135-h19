{
 "cells": [
  {
   "cell_type": "markdown",
   "metadata": {},
   "source": [
    "# Part 2 - CNN"
   ]
  },
  {
   "cell_type": "code",
   "execution_count": 10,
   "metadata": {},
   "outputs": [],
   "source": [
    "import torch \n",
    "import torch.nn as nn\n",
    "import torchvision\n",
    "import torchvision.transforms as transforms\n",
    "from torch.utils import data as data_utils\n"
   ]
  },
  {
   "cell_type": "code",
   "execution_count": 31,
   "metadata": {},
   "outputs": [],
   "source": [
    "def loader(data, batch_size = 32) : \n",
    "   \n",
    "    train, val, test = data\n",
    "    train, train_lab = train\n",
    "    val, val_lab = val\n",
    "    test, test_lab = test\n",
    "    \n",
    "    train_data, val_data, test_data  = torch.from_numpy(train).view(-1, 1,28,28), torch.from_numpy(val).view(-1, 1,28,28), torch.from_numpy(test).view(-1, 1,28,28)\n",
    "    \n",
    "    train_target, val_target, test_target  = torch.from_numpy(train_lab),  torch.from_numpy(val_lab), torch.from_numpy(test_lab)\n",
    "\n",
    "\n",
    "\n",
    "    train_set = data_utils.TensorDataset(train_data, train_target)\n",
    "    val_set = data_utils.TensorDataset(val_data, val_target)\n",
    "    test_set = data_utils.TensorDataset(test_data, test_target)\n",
    "    \n",
    "    train_loader = data_utils.DataLoader(train_set, batch_size=batch_size, shuffle = True)\n",
    "    val_loader = data_utils.DataLoader(val_set, batch_size=batch_size, shuffle = False)\n",
    "    test_loader = data_utils.DataLoader(test_set, batch_size=batch_size, shuffle = False)\n",
    "    \n",
    "    return train_loader, val_loader, test_loader\n",
    "\n"
   ]
  },
  {
   "cell_type": "code",
   "execution_count": 32,
   "metadata": {},
   "outputs": [],
   "source": [
    "data = np.load('mnist.pkl', encoding ='latin1')\n",
    "train_loader, val_loader, test_loader = loader(data)"
   ]
  },
  {
   "cell_type": "code",
   "execution_count": 99,
   "metadata": {},
   "outputs": [],
   "source": [
    "class CNN(nn.Module):\n",
    "    def __init__(self, num_classes=10):\n",
    "        super(CNN, self).__init__()\n",
    "        self.layer1 = nn.Sequential(\n",
    "            nn.Conv2d(1, 16, kernel_size=5, stride=1, padding=2),\n",
    "      \n",
    "            nn.ReLU(),\n",
    "            nn.MaxPool2d(kernel_size=2, stride=2))\n",
    "        self.layer2 = nn.Sequential(\n",
    "            nn.Conv2d(16, 32, kernel_size=5, stride=1, padding=2),\n",
    "       \n",
    "            nn.ReLU(),\n",
    "            nn.MaxPool2d(kernel_size=2, stride=2))\n",
    "       \n",
    "        self.fc = nn.Linear(7*7*32, num_classes)\n",
    "      \n",
    "        \n",
    "        self.history = []\n",
    "        \n",
    "    def forward(self, x):\n",
    "        out = self.layer1(x)\n",
    "        out = self.layer2(out)\n",
    "       \n",
    "     \n",
    "        out = out.reshape(out.size(0), -1)\n",
    "        \n",
    "        out = self.fc(out)\n",
    "       \n",
    "       \n",
    "        return out\n",
    "\n",
    "class Trainer(object):\n",
    "    def __init__(self, train_loader,val_loader, epochs = 10, lr_init = 1e-3, batch_size = 32, num_classes = 10):\n",
    "        self.epochs = epochs\n",
    "        self.lr = lr_init\n",
    "        self.loader = train_loader\n",
    "        self.val_loader = val_loader\n",
    "        self.batch_size = batch_size\n",
    "       \n",
    "        self.model = CNN(num_classes)\n",
    "        self.history = []\n",
    "    \n",
    "   \n",
    "    \n",
    "    def train(self,num_classes):\n",
    "       \n",
    "        criterion = nn.CrossEntropyLoss()\n",
    "        optimizer = torch.optim.SGD(self.model.parameters(), lr=self.lr)\n",
    "        for epoch in range(self.epochs):\n",
    "            for i, (images, labels) in enumerate(self.loader):\n",
    "                outputs = self.model(images)\n",
    "                loss = criterion(outputs, labels)\n",
    "                optimizer.zero_grad()\n",
    "                loss.backward()\n",
    "                optimizer.step()\n",
    "        \n",
    "                if (i+1) % 500 == 0:\n",
    "                    print ( 'Loss: {:.4f}' \n",
    "                           .format(loss.item()))\n",
    "            self.val()\n",
    "    \n",
    "    def val(self) :\n",
    "        \n",
    "        correct = 0\n",
    "        total = 0\n",
    "        for images, labels in self.val_loader:\n",
    "            outputs =self.model(images)\n",
    "            _, predicted = torch.max(outputs.data, 1)\n",
    "            total += labels.size(0)\n",
    "            correct += (predicted == labels).sum().item()\n",
    "        \n",
    "\n",
    "        print('Val Accuracy of the model : {} %'.format(100 * correct / total))\n",
    "        \n",
    "        val_acc = 100 * correct / total\n",
    "        \n",
    "        total = 0 \n",
    "        correct = 0\n",
    "        \n",
    "        for images, labels in self.loader:\n",
    "            outputs =self.model(images)\n",
    "            _, predicted = torch.max(outputs.data, 1)\n",
    "            total += labels.size(0)\n",
    "            correct += (predicted == labels).sum().item()\n",
    "            \n",
    "        print('Train Accuracy of the model : {} %'.format(100 * correct / total))\n",
    "        \n",
    "        train_acc = 100 * correct / total\n",
    "        \n",
    "        self.history.append([train_acc, val_acc])\n",
    "        \n",
    "\n",
    "\n"
   ]
  },
  {
   "cell_type": "markdown",
   "metadata": {},
   "source": [
    "### Training with lr = 1e-3"
   ]
  },
  {
   "cell_type": "code",
   "execution_count": 103,
   "metadata": {},
   "outputs": [],
   "source": [
    "trainer = Trainer(train_loader=train_loader, val_loader=val_loader)"
   ]
  },
  {
   "cell_type": "code",
   "execution_count": 104,
   "metadata": {},
   "outputs": [
    {
     "name": "stdout",
     "output_type": "stream",
     "text": [
      "Loss: 2.2385\n",
      "Loss: 2.1332\n",
      "Loss: 1.5196\n",
      "Val Accuracy of the model : 74.42 %\n",
      "Train Accuracy of the model : 72.384 %\n",
      "Loss: 0.8402\n",
      "Loss: 0.8174\n",
      "Loss: 0.3159\n",
      "Val Accuracy of the model : 88.05 %\n",
      "Train Accuracy of the model : 86.65 %\n",
      "Loss: 0.6537\n",
      "Loss: 0.5298\n",
      "Loss: 0.1833\n",
      "Val Accuracy of the model : 90.69 %\n",
      "Train Accuracy of the model : 89.468 %\n",
      "Loss: 0.2659\n",
      "Loss: 0.6090\n",
      "Loss: 0.3970\n",
      "Val Accuracy of the model : 91.83 %\n",
      "Train Accuracy of the model : 90.968 %\n",
      "Loss: 0.6521\n",
      "Loss: 0.4905\n",
      "Loss: 0.0506\n",
      "Val Accuracy of the model : 92.63 %\n",
      "Train Accuracy of the model : 91.786 %\n",
      "Loss: 0.6906\n",
      "Loss: 0.1469\n",
      "Loss: 0.3711\n",
      "Val Accuracy of the model : 92.89 %\n",
      "Train Accuracy of the model : 92.144 %\n",
      "Loss: 0.2427\n",
      "Loss: 0.4244\n",
      "Loss: 0.2388\n",
      "Val Accuracy of the model : 93.92 %\n",
      "Train Accuracy of the model : 93.14 %\n",
      "Loss: 0.2502\n",
      "Loss: 0.3222\n",
      "Loss: 0.0553\n",
      "Val Accuracy of the model : 94.27 %\n",
      "Train Accuracy of the model : 93.576 %\n",
      "Loss: 0.3467\n",
      "Loss: 0.2586\n",
      "Loss: 0.0734\n",
      "Val Accuracy of the model : 94.79 %\n",
      "Train Accuracy of the model : 94.13 %\n",
      "Loss: 0.1787\n",
      "Loss: 0.1592\n",
      "Loss: 0.3592\n",
      "Val Accuracy of the model : 95.17 %\n",
      "Train Accuracy of the model : 94.552 %\n"
     ]
    }
   ],
   "source": [
    "trainer.train(10)"
   ]
  },
  {
   "cell_type": "code",
   "execution_count": 105,
   "metadata": {},
   "outputs": [],
   "source": [
    "history = trainer.history"
   ]
  },
  {
   "cell_type": "code",
   "execution_count": 124,
   "metadata": {},
   "outputs": [],
   "source": [
    "def plot(history):\n",
    "    history = np.array(history)\n",
    "    plt.plot(history[:,0], label ='train')\n",
    "    plt.plot(history[:,1], label = 'val')\n",
    "    plt.legend(['train', 'val'], loc='upper left')\n",
    "    plt.title('Train/Val Accuracy evolution')"
   ]
  },
  {
   "cell_type": "code",
   "execution_count": 109,
   "metadata": {},
   "outputs": [
    {
     "data": {
      "image/png": "[encoded data removed]",
      "text/plain": [
       "<Figure size 432x288 with 1 Axes>"
      ]
     },
     "metadata": {
      "needs_background": "light"
     },
     "output_type": "display_data"
    }
   ],
   "source": [
    "plot(history)"
   ]
  }
 ],
 "metadata": {
  "colab": {
   "collapsed_sections": [],
   "name": "assignment1.ipynb",
   "provenance": [],
   "version": "0.3.2"
  },
  "kernelspec": {
   "display_name": "Python 3",
   "language": "python",
   "name": "python3"
  },
  "language_info": {
   "codemirror_mode": {
    "name": "ipython",
    "version": 3
   },
   "file_extension": ".py",
   "mimetype": "text/x-python",
   "name": "python",
   "nbconvert_exporter": "python",
   "pygments_lexer": "ipython3",
   "version": "3.7.2"
  }
 },
 "nbformat": 4,
 "nbformat_minor": 1
}
